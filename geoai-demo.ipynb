{
 "cells": [
  {
   "cell_type": "code",
   "execution_count": 1,
   "id": "353357c3",
   "metadata": {},
   "outputs": [],
   "source": [
    "bbox = (\n",
    "    -122.580,  # min_longitude (slightly west)\n",
    "    47.180,    # min_latitude (slightly south)\n",
    "    -122.560,  # max_longitude (slightly east)\n",
    "    47.195     # max_latitude (slightly north)\n",
    ")\n"
   ]
  },
  {
   "cell_type": "code",
   "execution_count": 2,
   "id": "3a387f87",
   "metadata": {},
   "outputs": [
    {
     "name": "stdout",
     "output_type": "stream",
     "text": [
      "Found 1 NAIP items.\n",
      "Downloading item 1/1: m_4712252_sw_10_060_20230802_20240209.tif\n"
     ]
    },
    {
     "name": "stderr",
     "output_type": "stream",
     "text": [
      "m_4712252_sw_10_060_20230802_20240209.tif: 100%|██████████| 344M/344M [00:52<00:00, 6.90MiB/s] \n"
     ]
    },
    {
     "name": "stdout",
     "output_type": "stream",
     "text": [
      "Successfully saved to naip_data\\m_4712252_sw_10_060_20230802_20240209.tif\n",
      "Downloaded 1 files.\n",
      "{'total_buildings': 772, 'has_height': 721, 'has_name': 0, 'bbox': [-122.58025550149267, 47.1799465, -122.5586419, 47.19521546148361]}\n"
     ]
    },
    {
     "data": {
      "application/vnd.jupyter.widget-view+json": {
       "model_id": "3b4487ac9d034054a6c0c7cb16e5774d",
       "version_major": 2,
       "version_minor": 0
      },
      "text/plain": [
       "Map(center=[47.156238, -122.5937145], controls=(ZoomControl(options=['position', 'zoom_in_text', 'zoom_in_titl…"
      ]
     },
     "execution_count": 2,
     "metadata": {},
     "output_type": "execute_result"
    }
   ],
   "source": [
    "import leafmap\n",
    "from geoai.download import (\n",
    "    download_naip,\n",
    "    download_overture_buildings,\n",
    "    extract_building_stats,\n",
    ")\n",
    "\n",
    "# Set your custom bounding box near your neighborhood\n",
    "bbox = (-122.580, 47.180, -122.560, 47.195)\n",
    "\n",
    "# Create the map centered roughly in your area\n",
    "m = leafmap.Map(center=[47.188, -122.570], zoom=16)\n",
    "m.add_basemap(\"Google Satellite\")\n",
    "m\n",
    "\n",
    "# Download NAIP imagery for the bbox\n",
    "downloaded_files = download_naip(\n",
    "    bbox=bbox,\n",
    "    output_dir=\"naip_data\",\n",
    "    max_items=1,\n",
    "    # year=2020,\n",
    ")\n",
    "\n",
    "print(f\"Downloaded {len(downloaded_files)} files.\")\n",
    "\n",
    "# Download building footprints\n",
    "data_file = download_overture_buildings(\n",
    "    bbox=bbox,\n",
    "    output=\"buildings.geojson\",\n",
    ")\n",
    "\n",
    "# Extract building stats\n",
    "stats = extract_building_stats(data_file)\n",
    "print(stats)\n",
    "\n",
    "# Visualize datasets\n",
    "m = leafmap.Map(center=[47.188, -122.570], zoom=16)\n",
    "m.add_raster(downloaded_files[0], layer_name=\"NAIP\")\n",
    "m.add_geojson(data_file, layer_name=\"Buildings\")\n",
    "m\n"
   ]
  }
 ],
 "metadata": {
  "kernelspec": {
   "display_name": "geo",
   "language": "python",
   "name": "python3"
  },
  "language_info": {
   "codemirror_mode": {
    "name": "ipython",
    "version": 3
   },
   "file_extension": ".py",
   "mimetype": "text/x-python",
   "name": "python",
   "nbconvert_exporter": "python",
   "pygments_lexer": "ipython3",
   "version": "3.12.7"
  }
 },
 "nbformat": 4,
 "nbformat_minor": 5
}
